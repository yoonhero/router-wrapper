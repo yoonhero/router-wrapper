{
 "cells": [
  {
   "cell_type": "code",
   "execution_count": 1,
   "metadata": {},
   "outputs": [],
   "source": [
    "import PIL\n",
    "from PIL import Image\n",
    "import numpy as np\n",
    "import torch\n",
    "import torch.nn.functional as F"
   ]
  },
  {
   "cell_type": "code",
   "execution_count": 3,
   "metadata": {},
   "outputs": [
    {
     "data": {
      "text/plain": [
       "(44, 260, 3)"
      ]
     },
     "execution_count": 3,
     "metadata": {},
     "output_type": "execute_result"
    }
   ],
   "source": [
    "# test_img = Image.open(\"./tmp/0.png\")\n",
    "test_img = Image.open(\"puzzle.png\")\n",
    "image = np.array(test_img)\n",
    "image.shape"
   ]
  },
  {
   "cell_type": "code",
   "execution_count": 4,
   "metadata": {},
   "outputs": [],
   "source": [
    "def crop_white_border(image):\n",
    "    white = 255\n",
    "    black = 0\n",
    "    _image = image.copy()\n",
    "    if image.ndim == 3 and image.shape[2] == 3:\n",
    "        _image = np.mean(image, axis=2, dtype=int)\n",
    "\n",
    "    non_white_mask = _image < white\n",
    "    non_white_rows = np.any(non_white_mask, axis=1)\n",
    "    non_white_cols = np.any(non_white_mask, axis=0)\n",
    "\n",
    "    row_start = np.argmax(non_white_rows)\n",
    "    row_end = len(non_white_rows) - np.argmax(non_white_rows[::-1])\n",
    "    col_start = np.argmax(non_white_cols)\n",
    "    col_end = len(non_white_cols)-  np.argmax(non_white_cols[::-1])\n",
    "    cropped_image = image[row_start:row_end, col_start:col_end]\n",
    "    # cropped_image = np.expand_dims(cropped_image, 2)\n",
    "    # print(cropped_image)\n",
    "    # Image.fromarray((cropped_image).astype(np.uint8))\n",
    "    return cropped_image"
   ]
  },
  {
   "cell_type": "code",
   "execution_count": 5,
   "metadata": {},
   "outputs": [
    {
     "data": {
      "image/png": "[encoded data removed]",
      "text/plain": [
       "<PIL.Image.Image image mode=LA size=180x50>"
      ]
     },
     "execution_count": 5,
     "metadata": {},
     "output_type": "execute_result"
    }
   ],
   "source": [
    "import einops\n",
    "processed_image = crop_white_border(image)\n",
    "\n",
    "torch_image = torch.from_numpy(processed_image/255).to(torch.float32)\n",
    "torch_image = einops.rearrange(torch_image, \"h w c -> 1 c h w\")\n",
    "Image.fromarray(processed_image).convert('LA').resize((180, 50), resample=Image.BILINEAR)"
   ]
  },
  {
   "cell_type": "code",
   "execution_count": 107,
   "metadata": {},
   "outputs": [
    {
     "data": {
      "text/plain": [
       "array([[[1.],\n",
       "        [1.],\n",
       "        [1.],\n",
       "        ...,\n",
       "        [1.],\n",
       "        [1.],\n",
       "        [1.]],\n",
       "\n",
       "       [[1.],\n",
       "        [1.],\n",
       "        [1.],\n",
       "        ...,\n",
       "        [1.],\n",
       "        [1.],\n",
       "        [1.]],\n",
       "\n",
       "       [[1.],\n",
       "        [1.],\n",
       "        [1.],\n",
       "        ...,\n",
       "        [1.],\n",
       "        [1.],\n",
       "        [1.]],\n",
       "\n",
       "       ...,\n",
       "\n",
       "       [[1.],\n",
       "        [1.],\n",
       "        [1.],\n",
       "        ...,\n",
       "        [1.],\n",
       "        [1.],\n",
       "        [1.]],\n",
       "\n",
       "       [[1.],\n",
       "        [1.],\n",
       "        [1.],\n",
       "        ...,\n",
       "        [1.],\n",
       "        [1.],\n",
       "        [1.]],\n",
       "\n",
       "       [[1.],\n",
       "        [1.],\n",
       "        [1.],\n",
       "        ...,\n",
       "        [1.],\n",
       "        [1.],\n",
       "        [1.]]])"
      ]
     },
     "execution_count": 107,
     "metadata": {},
     "output_type": "execute_result"
    }
   ],
   "source": [
    "# np.array(Image.fromarray(processed_image).convert('LA').resize((180, 50), resample=Image.BILINEAR)).shape\n",
    "np.mean(image, axis=2, keepdims=True, dtype=float) /255"
   ]
  },
  {
   "cell_type": "code",
   "execution_count": 93,
   "metadata": {},
   "outputs": [
    {
     "name": "stdout",
     "output_type": "stream",
     "text": [
      "torch.Size([1, 1, 29, 95])\n"
     ]
    }
   ],
   "source": [
    "kernel = torch.ones((1, 3, 3, 1), dtype=torch.float32)\n",
    "# kernel = torch.tensor([[[[1, 0],[0, -1]]]])\n",
    "# print(kernel.shape)\n",
    "convolved = F.conv2d(torch_image, kernel, stride=(1,1), padding=0)\n",
    "print(convolved.shape)\n",
    "convolved = einops.rearrange(torch_image[0], \"c h w -> h w c\")\n",
    "Image.fromarray(convolved[0].numpy()).show()"
   ]
  }
 ],
 "metadata": {
  "kernelspec": {
   "display_name": "mlenv",
   "language": "python",
   "name": "python3"
  },
  "language_info": {
   "codemirror_mode": {
    "name": "ipython",
    "version": 3
   },
   "file_extension": ".py",
   "mimetype": "text/x-python",
   "name": "python",
   "nbconvert_exporter": "python",
   "pygments_lexer": "ipython3",
   "version": "3.11.7"
  }
 },
 "nbformat": 4,
 "nbformat_minor": 2
}
